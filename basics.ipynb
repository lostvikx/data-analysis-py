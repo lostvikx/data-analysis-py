{
 "cells": [
  {
   "cell_type": "code",
   "execution_count": 2,
   "metadata": {},
   "outputs": [
    {
     "data": {
      "text/plain": [
       "{'a': ['apple', 'atom'], 'b': ['bat', 'bar', 'book']}"
      ]
     },
     "execution_count": 2,
     "metadata": {},
     "output_type": "execute_result"
    }
   ],
   "source": [
    "# Sort by letters\n",
    "\n",
    "def sort_by_letters(words):\n",
    "  by_letters = {}\n",
    "\n",
    "  for word in words:\n",
    "    letter = word[0]\n",
    "\n",
    "    if letter not in by_letters:\n",
    "      by_letters[letter] = [word]\n",
    "    else:\n",
    "      by_letters[letter].append(word)\n",
    "    \n",
    "  return by_letters\n",
    "\n",
    "test_words = [\"apple\", \"bat\", \"bar\", \"atom\", \"book\"]\n",
    "sort_by_letters(test_words)"
   ]
  },
  {
   "cell_type": "code",
   "execution_count": null,
   "metadata": {},
   "outputs": [],
   "source": []
  }
 ],
 "metadata": {
  "interpreter": {
   "hash": "8a9e84b626d699b83baab16d70dd30323ee5abd09cea9c4fe1b5fd5029dd4538"
  },
  "kernelspec": {
   "display_name": "Python 3.10.4 ('venv': venv)",
   "language": "python",
   "name": "python3"
  },
  "language_info": {
   "codemirror_mode": {
    "name": "ipython",
    "version": 3
   },
   "file_extension": ".py",
   "mimetype": "text/x-python",
   "name": "python",
   "nbconvert_exporter": "python",
   "pygments_lexer": "ipython3",
   "version": "3.10.4"
  },
  "orig_nbformat": 4
 },
 "nbformat": 4,
 "nbformat_minor": 2
}
