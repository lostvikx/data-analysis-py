{
 "cells": [
  {
   "cell_type": "code",
   "execution_count": 18,
   "metadata": {},
   "outputs": [
    {
     "data": {
      "text/plain": [
       "{'a': ['apple', 'atom'], 'b': ['bat', 'bar', 'book'], 'c': ['color']}"
      ]
     },
     "execution_count": 18,
     "metadata": {},
     "output_type": "execute_result"
    }
   ],
   "source": [
    "# Sort by letters\n",
    "\n",
    "def sort_by_letters(words):\n",
    "  by_letters = {}\n",
    "  # for word in words:\n",
    "  #   letter = word[0]\n",
    "  #   if letter not in by_letters:\n",
    "  #     by_letters[letter] = [word]\n",
    "  #   else:\n",
    "  #     by_letters[letter].append(word)\n",
    "\n",
    "  # OR\n",
    "  for word in words:\n",
    "    letter = word[0]\n",
    "    by_letters.setdefault(letter, []).append(word)\n",
    "\n",
    "  # OR\n",
    "  from collections import defaultdict\n",
    "  by_letters_dd = defaultdict(list)\n",
    "  for word in words:\n",
    "    by_letters_dd[word[0]].append(word)\n",
    "    \n",
    "  return by_letters\n",
    "\n",
    "test_words = [\"apple\", \"bat\", \"bar\", \"atom\", \"color\", \"book\"]\n",
    "sort_by_letters(test_words)"
   ]
  },
  {
   "cell_type": "code",
   "execution_count": 21,
   "metadata": {},
   "outputs": [
    {
     "data": {
      "text/plain": [
       "{0, 1, 5, 6, 7, 8, 9}"
      ]
     },
     "execution_count": 21,
     "metadata": {},
     "output_type": "execute_result"
    }
   ],
   "source": [
    "a_set = set([1, 5, 6, 1, 6, 9, 7, 8, 6, 7, 9, 0])\n",
    "a_set"
   ]
  },
  {
   "cell_type": "code",
   "execution_count": 22,
   "metadata": {},
   "outputs": [
    {
     "data": {
      "text/plain": [
       "{1, 2, 3, 5, 6}"
      ]
     },
     "execution_count": 22,
     "metadata": {},
     "output_type": "execute_result"
    }
   ],
   "source": [
    "b_set = {1, 2, 5, 6, 2, 3, 1, 5, 3, 2}\n",
    "b_set"
   ]
  },
  {
   "cell_type": "code",
   "execution_count": 25,
   "metadata": {},
   "outputs": [
    {
     "data": {
      "text/plain": [
       "{0, 1, 2, 3, 5, 6, 7, 8, 9}"
      ]
     },
     "execution_count": 25,
     "metadata": {},
     "output_type": "execute_result"
    }
   ],
   "source": [
    "# Union of two sets\n",
    "a_set | b_set\n",
    "# OR\n",
    "a_set.union(b_set)"
   ]
  },
  {
   "cell_type": "code",
   "execution_count": null,
   "metadata": {},
   "outputs": [],
   "source": []
  }
 ],
 "metadata": {
  "interpreter": {
   "hash": "8a9e84b626d699b83baab16d70dd30323ee5abd09cea9c4fe1b5fd5029dd4538"
  },
  "kernelspec": {
   "display_name": "Python 3.10.4 ('venv': venv)",
   "language": "python",
   "name": "python3"
  },
  "language_info": {
   "codemirror_mode": {
    "name": "ipython",
    "version": 3
   },
   "file_extension": ".py",
   "mimetype": "text/x-python",
   "name": "python",
   "nbconvert_exporter": "python",
   "pygments_lexer": "ipython3",
   "version": "3.10.4"
  },
  "orig_nbformat": 4
 },
 "nbformat": 4,
 "nbformat_minor": 2
}
