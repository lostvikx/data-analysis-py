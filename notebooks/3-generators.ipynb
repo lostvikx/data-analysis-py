{
 "cells": [
  {
   "cell_type": "markdown",
   "metadata": {},
   "source": [
    "# Generators\n",
    "\n",
    "An iterator is an object that will yield objects to the Python interpreter when used in a context like a `for` loop.\n",
    "\n",
    "Most built-in methods that accept a list or list-like object will also accept any iterable object. Examples: `sum` or `min` or even type contructors like `tuple` and `list`."
   ]
  },
  {
   "cell_type": "code",
   "execution_count": 4,
   "metadata": {},
   "outputs": [
    {
     "data": {
      "text/plain": [
       "6"
      ]
     },
     "execution_count": 4,
     "metadata": {},
     "output_type": "execute_result"
    }
   ],
   "source": [
    "test = set([1, 2, 3, 2, 3, 4, 6, 4, 5])\n",
    "max(test)"
   ]
  },
  {
   "cell_type": "markdown",
   "metadata": {},
   "source": [
    "**Important**: A generator is a convenient way, similar to writing a normal function, to construct a new iterable object."
   ]
  },
  {
   "cell_type": "code",
   "execution_count": 55,
   "metadata": {},
   "outputs": [],
   "source": [
    "def squares(n=10):\n",
    "  \"\"\"\n",
    "  Generator function.\n",
    "\n",
    "  Arg:\n",
    "    n:int positive number\n",
    "  \"\"\"\n",
    "  assert n > 0, print(\"n should be greater than 0\")\n",
    "  print(f\"Generating squares from 1 to {n**2}\")\n",
    "  # 1 to 10\n",
    "  i = 1\n",
    "  while i <= n:\n",
    "    yield i ** 2\n",
    "    i+=1\n"
   ]
  },
  {
   "cell_type": "markdown",
   "metadata": {},
   "source": [
    "When you call a generator function, no code is immediately executed."
   ]
  },
  {
   "cell_type": "code",
   "execution_count": 56,
   "metadata": {},
   "outputs": [],
   "source": [
    "test_gen = squares()"
   ]
  },
  {
   "cell_type": "markdown",
   "metadata": {},
   "source": [
    "Only once you request the generator object for values, it starts executing."
   ]
  },
  {
   "cell_type": "code",
   "execution_count": 57,
   "metadata": {},
   "outputs": [
    {
     "name": "stdout",
     "output_type": "stream",
     "text": [
      "Generating squares from 1 to 100\n",
      "1 4 9 16 25 36 49 64 81 100 "
     ]
    }
   ],
   "source": [
    "for num in test_gen:\n",
    "  print(num, end=\" \")"
   ]
  },
  {
   "cell_type": "markdown",
   "metadata": {},
   "source": [
    "**Note**: Since generators produce output one element at a time versus an entire list all at once, it can help your program use less memory."
   ]
  },
  {
   "cell_type": "code",
   "execution_count": 1,
   "metadata": {},
   "outputs": [
    {
     "name": "stdout",
     "output_type": "stream",
     "text": [
      "2.8 s ± 488 ms per loop (mean ± std. dev. of 7 runs, 1 loop each)\n"
     ]
    }
   ],
   "source": [
    "# Generator expression\n",
    "# We can use generator expressions instead of list to save memory.\n",
    "a_num = 10000000\n",
    "%timeit sum((x**2 for x in range(a_num)))"
   ]
  },
  {
   "cell_type": "code",
   "execution_count": 33,
   "metadata": {},
   "outputs": [
    {
     "data": {
      "text/plain": [
       "333333283333335000000"
      ]
     },
     "execution_count": 33,
     "metadata": {},
     "output_type": "execute_result"
    }
   ],
   "source": [
    "# To compute the same process using a list, takes significantly more memory and is therefore slower.\n",
    "%timeit sum([x**2 for x in range(a_num)])"
   ]
  },
  {
   "cell_type": "code",
   "execution_count": 38,
   "metadata": {},
   "outputs": [
    {
     "data": {
      "text/plain": [
       "{1: 1, 2: 4, 3: 9, 4: 16, 5: 25, 6: 36, 7: 49, 8: 64, 9: 81, 10: 100}"
      ]
     },
     "execution_count": 38,
     "metadata": {},
     "output_type": "execute_result"
    }
   ],
   "source": [
    "dict(((i, i**2) for i in range(1, 11)))"
   ]
  },
  {
   "cell_type": "code",
   "execution_count": 58,
   "metadata": {},
   "outputs": [
    {
     "name": "stdout",
     "output_type": "stream",
     "text": [
      "A: ['Alan', 'Adam']\n",
      "W: ['Wes', 'Will']\n",
      "A: ['Albert']\n",
      "S: ['Steven']\n"
     ]
    }
   ],
   "source": [
    "import itertools\n",
    "\n",
    "sub_names = (\"Alan\", \"Adam\", \"Wes\", \"Will\", \"Albert\", \"Steven\")\n",
    "\n",
    "# The groupby method takes a sequence (iterable) and a function (key), grouping the elements in the sequence by return value of the function.\n",
    "# Generates (key, sub-iterator) for each unique key.\n",
    "groupby_first_letter = itertools.groupby(iterable=sub_names, key=lambda name: name[0]) # The return value of the lambda function is the first letter\n",
    "for first_letter, names in groupby_first_letter:\n",
    "  print(f\"{first_letter}: {list(names)}\")"
   ]
  },
  {
   "cell_type": "markdown",
   "metadata": {},
   "source": [
    "Some useful `itertool.methods`:\n",
    "\n",
    "- `.chain(*iterables)`\n",
    "- `.combinations(iter, k)` and `.permutations(iter, k)`\n",
    "- `.groupby(iterable, key=fn)`\n",
    "- `.product(*iterables, repeat=1)`"
   ]
  }
 ],
 "metadata": {
  "interpreter": {
   "hash": "8a9e84b626d699b83baab16d70dd30323ee5abd09cea9c4fe1b5fd5029dd4538"
  },
  "kernelspec": {
   "display_name": "Python 3.10.4 ('venv': venv)",
   "language": "python",
   "name": "python3"
  },
  "language_info": {
   "codemirror_mode": {
    "name": "ipython",
    "version": 3
   },
   "file_extension": ".py",
   "mimetype": "text/x-python",
   "name": "python",
   "nbconvert_exporter": "python",
   "pygments_lexer": "ipython3",
   "version": "3.10.4"
  },
  "orig_nbformat": 4
 },
 "nbformat": 4,
 "nbformat_minor": 2
}
