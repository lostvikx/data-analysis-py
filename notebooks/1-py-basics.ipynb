{
 "cells": [
  {
   "cell_type": "code",
   "execution_count": 18,
   "metadata": {},
   "outputs": [
    {
     "data": {
      "text/plain": [
       "{'a': ['apple', 'atom'], 'b': ['bat', 'bar', 'book'], 'c': ['color']}"
      ]
     },
     "execution_count": 18,
     "metadata": {},
     "output_type": "execute_result"
    }
   ],
   "source": [
    "# Sort by letters\n",
    "\n",
    "def sort_by_letters(words):\n",
    "  by_letters = {}\n",
    "  # for word in words:\n",
    "  #   letter = word[0]\n",
    "  #   if letter not in by_letters:\n",
    "  #     by_letters[letter] = [word]\n",
    "  #   else:\n",
    "  #     by_letters[letter].append(word)\n",
    "\n",
    "  # OR\n",
    "  for word in words:\n",
    "    letter = word[0]\n",
    "    by_letters.setdefault(letter, []).append(word)\n",
    "\n",
    "  # OR\n",
    "  from collections import defaultdict\n",
    "  by_letters_dd = defaultdict(list)\n",
    "  for word in words:\n",
    "    by_letters_dd[word[0]].append(word)\n",
    "    \n",
    "  return by_letters\n",
    "\n",
    "test_words = [\"apple\", \"bat\", \"bar\", \"atom\", \"color\", \"book\"]\n",
    "sort_by_letters(test_words)"
   ]
  },
  {
   "cell_type": "code",
   "execution_count": 43,
   "metadata": {},
   "outputs": [
    {
     "data": {
      "text/plain": [
       "[('a', 0), ('b', 1), ('c', 2)]"
      ]
     },
     "execution_count": 43,
     "metadata": {},
     "output_type": "execute_result"
    }
   ],
   "source": [
    "list(zip(\"abc\", range(3)))"
   ]
  },
  {
   "cell_type": "code",
   "execution_count": 48,
   "metadata": {},
   "outputs": [
    {
     "data": {
      "text/plain": [
       "[('foo', 'one'), ('bar', 'two'), ('baz', 'three')]"
      ]
     },
     "execution_count": 48,
     "metadata": {},
     "output_type": "execute_result"
    }
   ],
   "source": [
    "seq_1 = [\"foo\", \"bar\", \"baz\"]\n",
    "seq_2 = [\"one\", \"two\", \"three\"]\n",
    "\n",
    "list(zip(seq_1, seq_2))"
   ]
  },
  {
   "cell_type": "code",
   "execution_count": 47,
   "metadata": {},
   "outputs": [
    {
     "name": "stdout",
     "output_type": "stream",
     "text": [
      "0: foo, one\n",
      "1: bar, two\n",
      "2: baz, three\n"
     ]
    }
   ],
   "source": [
    "for i, (a, b) in enumerate(zip(seq_1, seq_2)):\n",
    "  print(f\"{i}: {a}, {b}\")"
   ]
  },
  {
   "cell_type": "code",
   "execution_count": 50,
   "metadata": {},
   "outputs": [
    {
     "data": {
      "text/plain": [
       "[4, 3, 2, 1, 0]"
      ]
     },
     "execution_count": 50,
     "metadata": {},
     "output_type": "execute_result"
    }
   ],
   "source": [
    "# Revered\n",
    "reversed_list = list(reversed(range(5)))\n",
    "reversed_list"
   ]
  },
  {
   "cell_type": "code",
   "execution_count": null,
   "metadata": {},
   "outputs": [],
   "source": [
    "# list_comp = [expr for value in collection if condition]"
   ]
  },
  {
   "cell_type": "code",
   "execution_count": 51,
   "metadata": {},
   "outputs": [
    {
     "data": {
      "text/plain": [
       "['BAT', 'CAR', 'DOVE', 'PYTHON']"
      ]
     },
     "execution_count": 51,
     "metadata": {},
     "output_type": "execute_result"
    }
   ],
   "source": [
    "strings = [\"a\", \"as\", \"bat\", \"car\", \"dove\", \"python\"]\n",
    "\n",
    "# filter out len < 2 & uppercase\n",
    "[s.upper() for s in strings if len(s) > 2]"
   ]
  },
  {
   "cell_type": "code",
   "execution_count": null,
   "metadata": {},
   "outputs": [],
   "source": [
    "# dict_comp = {key-expr: value-expr for value in collection if condition}\n",
    "# set_comp = {expr for value in collection if condition}"
   ]
  },
  {
   "cell_type": "code",
   "execution_count": 56,
   "metadata": {},
   "outputs": [
    {
     "name": "stdout",
     "output_type": "stream",
     "text": [
      "{1, 2, 3, 4, 6}\n"
     ]
    }
   ],
   "source": [
    "unique_lens = {len(s) for s in strings}\n",
    "# OR\n",
    "unique_lens = set(map(len, strings))\n",
    "\n",
    "print(unique_lens)"
   ]
  },
  {
   "cell_type": "code",
   "execution_count": 58,
   "metadata": {},
   "outputs": [
    {
     "data": {
      "text/plain": [
       "{'a': 0, 'as': 1, 'bat': 2, 'car': 3, 'dove': 4, 'python': 5}"
      ]
     },
     "execution_count": 58,
     "metadata": {},
     "output_type": "execute_result"
    }
   ],
   "source": [
    "{val: i for i, val in enumerate(strings)}"
   ]
  },
  {
   "cell_type": "code",
   "execution_count": 59,
   "metadata": {},
   "outputs": [
    {
     "data": {
      "text/plain": [
       "['Maria', 'Natalia']"
      ]
     },
     "execution_count": 59,
     "metadata": {},
     "output_type": "execute_result"
    }
   ],
   "source": [
    "nested_names = [[\"John\", \"Emily\", \"Michael\", \"Mary\", \"Steven\"], [\"Maria\", \"Juan\", \"Javier\", \"Natalia\", \"Pilar\"]]\n",
    "\n",
    "# List of names with 2 or more a's in them\n",
    "[name for names in nested_names for name in names if name.count(\"a\") >= 2]"
   ]
  },
  {
   "cell_type": "code",
   "execution_count": 60,
   "metadata": {},
   "outputs": [
    {
     "data": {
      "text/plain": [
       "[1, 2, 3, 4, 5, 6, 7, 8, 9]"
      ]
     },
     "execution_count": 60,
     "metadata": {},
     "output_type": "execute_result"
    }
   ],
   "source": [
    "some_tuples = [(1, 2, 3), (4, 5, 6), (7, 8, 9)]\n",
    "\n",
    "# flattem the list above\n",
    "[n for tup in some_tuples for n in tup]"
   ]
  },
  {
   "cell_type": "code",
   "execution_count": 64,
   "metadata": {},
   "outputs": [
    {
     "data": {
      "text/plain": [
       "[[1, 2, 3], [4, 5, 6], [7, 8, 9]]"
      ]
     },
     "execution_count": 64,
     "metadata": {},
     "output_type": "execute_result"
    }
   ],
   "source": [
    "# looks cool\n",
    "# [list(tup) for tup in some_tuples]\n",
    "[[n for n in tup] for tup in some_tuples]"
   ]
  },
  {
   "cell_type": "code",
   "execution_count": 65,
   "metadata": {},
   "outputs": [
    {
     "data": {
      "text/plain": [
       "('hello', 'world')"
      ]
     },
     "execution_count": 65,
     "metadata": {},
     "output_type": "execute_result"
    }
   ],
   "source": [
    "def say_hello():\n",
    "  return \"hello\", \"world\"\n",
    "\n",
    "say_hello()"
   ]
  },
  {
   "cell_type": "code",
   "execution_count": 96,
   "metadata": {},
   "outputs": [
    {
     "data": {
      "text/plain": [
       "{'Alabama', 'Florida', 'Georgia', 'South   Carolina', 'West Virginia'}"
      ]
     },
     "execution_count": 96,
     "metadata": {},
     "output_type": "execute_result"
    }
   ],
   "source": [
    "# In python, all functions are objects!\n",
    "\n",
    "import re\n",
    "\n",
    "us_states = [\"   Alabama \", \"Georgia!\", \"Georgia\", \"georgia\", \"FlOrIda\", \"south   carolina##\", \"West virginia?\"]\n",
    "\n",
    "rm_punctuation = lambda text: re.sub(\"[!?#]\", \"\", text)\n",
    "operations = (str.strip, rm_punctuation, str.title)\n",
    "\n",
    "def clean_text_v1(states, ops):\n",
    "  clean = set()\n",
    "\n",
    "  for state in states:\n",
    "    for op in ops:\n",
    "      state = op(state)\n",
    "\n",
    "    clean.add(state)\n",
    "\n",
    "  return sorted(clean)\n",
    "\n",
    "def clean_text_v2(states, ops):\n",
    "  for op in ops:\n",
    "    states = map(op, states)\n",
    "\n",
    "  return set(sorted(states))\n",
    "\n",
    "clean_text_v2(us_states, operations)"
   ]
  },
  {
   "cell_type": "code",
   "execution_count": 97,
   "metadata": {},
   "outputs": [
    {
     "data": {
      "text/plain": [
       "[1, 4, 2025, 350464]"
      ]
     },
     "execution_count": 97,
     "metadata": {},
     "output_type": "execute_result"
    }
   ],
   "source": [
    "def mapper(some_list, fn):\n",
    "  return [fn(x) for x in some_list]\n",
    "\n",
    "mapper([1, 2, 45, 592], lambda x: x ** 2)"
   ]
  },
  {
   "cell_type": "code",
   "execution_count": 112,
   "metadata": {},
   "outputs": [
    {
     "name": "stdout",
     "output_type": "stream",
     "text": [
      "['aaaa', 'foo', 'abab', 'bar', 'card']\n"
     ]
    }
   ],
   "source": [
    "# Try to sort using no. of unique letter in each string\n",
    "\n",
    "test_strings = [\"foo\", \"card\", \"bar\", \"aaaa\", \"abab\"]\n",
    "test_strings.sort(key=lambda s: len(set(s)))\n",
    "\n",
    "print(test_strings)"
   ]
  }
 ],
 "metadata": {
  "interpreter": {
   "hash": "8a9e84b626d699b83baab16d70dd30323ee5abd09cea9c4fe1b5fd5029dd4538"
  },
  "kernelspec": {
   "display_name": "Python 3.10.4 ('venv': venv)",
   "language": "python",
   "name": "python3"
  },
  "language_info": {
   "codemirror_mode": {
    "name": "ipython",
    "version": 3
   },
   "file_extension": ".py",
   "mimetype": "text/x-python",
   "name": "python",
   "nbconvert_exporter": "python",
   "pygments_lexer": "ipython3",
   "version": "3.10.4"
  },
  "orig_nbformat": 4
 },
 "nbformat": 4,
 "nbformat_minor": 2
}
